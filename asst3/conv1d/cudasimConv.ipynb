{
 "cells": [
  {
   "cell_type": "markdown",
   "metadata": {},
   "source": [
    "### Using the numba cuda simulator for debugging"
   ]
  },
  {
   "cell_type": "markdown",
   "metadata": {},
   "source": [
    "Execution of kernels is performed by the simulator one block at a time. One thread is spawned for each thread in the block, and scheduling of the execution of these threads is left up to the operating system.\n",
    "\n",
    "*for me it just did the thread sequentially"
   ]
  },
  {
   "cell_type": "code",
   "execution_count": 2,
   "metadata": {},
   "outputs": [],
   "source": [
    "import os\n",
    "os.environ['NUMBA_ENABLE_CUDASIM'] = '1'"
   ]
  },
  {
   "cell_type": "code",
   "execution_count": 3,
   "metadata": {},
   "outputs": [],
   "source": [
    "from numba import cuda\n",
    "import numpy as np"
   ]
  },
  {
   "cell_type": "code",
   "execution_count": 4,
   "metadata": {},
   "outputs": [],
   "source": [
    "@cuda.jit\n",
    "def upsweep_kernel(input:np.array ,two_d:int, n:int):\n",
    "    two_dplus1 = 2*two_d\n",
    "    #debug: need to do one operation in a stride of two_dplus1 and the data doesn't touch\n",
    "    #debug: have the last thread of the stride do the work\n",
    "\n",
    "    bx, tx = cuda.blockIdx.x, cuda.threadIdx.x\n",
    "    idx = cuda.blockDim.x*bx + tx\n",
    "\n",
    "    if idx%two_dplus1==0 and idx+two_dplus1-1 < n:\n",
    "        input[idx+two_dplus1-1] += input[idx+two_d-1]\n",
    "\n",
    "@cuda.jit \n",
    "def downsweep_kernel(input:np.array ,two_d:int, n:int):\n",
    "    two_dplus1 = 2*two_d\n",
    "\n",
    "    bx, tx = cuda.blockIdx.x, cuda.threadIdx.x\n",
    "    idx = cuda.blockDim.x*bx + tx\n",
    "\n",
    "    if idx%two_dplus1==0 and idx+two_dplus1-1 < n:\n",
    "        t = input[int(idx+two_d-1)]\n",
    "        input[int(idx+two_d-1)] = input[int(idx+two_dplus1-1)]\n",
    "        input[int(idx+two_dplus1-1)] += t"
   ]
  },
  {
   "cell_type": "code",
   "execution_count": 5,
   "metadata": {},
   "outputs": [],
   "source": [
    "def predix_sum(input:np.array):\n",
    "    x = input.copy()\n",
    "    n = input.shape[0]\n",
    "    two_d = 1\n",
    "    tpb = 512\n",
    "    nb = (n + tpb - 1)//tpb\n",
    "    while two_d<=n//2:\n",
    "        upsweep_kernel[nb,tpb](x,two_d,n)\n",
    "        print(x)\n",
    "        two_d*=2\n",
    "    x[n-1]=0\n",
    "    print(x)\n",
    "    two_d=n/2\n",
    "    while two_d>=1:\n",
    "        downsweep_kernel[nb,tpb](x,two_d,n) \n",
    "        print(x)\n",
    "        two_d/=2\n",
    "\n",
    "   "
   ]
  },
  {
   "cell_type": "code",
   "execution_count": 6,
   "metadata": {},
   "outputs": [],
   "source": [
    "\n",
    "input  = [1,2,3,4,5,6,7,8]\n",
    "output = [0]*8\n",
    "input = np.array(input)\n",
    "output = np.array(output)\n"
   ]
  },
  {
   "cell_type": "code",
   "execution_count": 7,
   "metadata": {},
   "outputs": [
    {
     "name": "stdout",
     "output_type": "stream",
     "text": [
      "[ 1  3  3  7  5 11  7 15]\n",
      "[ 1  3  3 10  5 11  7 26]\n",
      "[ 1  3  3 10  5 11  7 36]\n",
      "[ 1  3  3 10  5 11  7  0]\n",
      "[ 1  3  3  0  5 11  7 10]\n",
      "[ 1  0  3  3  5 10  7 21]\n",
      "[ 0  1  3  6 10 15 21 28]\n"
     ]
    }
   ],
   "source": [
    "predix_sum(input)"
   ]
  },
  {
   "cell_type": "markdown",
   "metadata": {},
   "source": [
    "[1 3 3 10 5 11 7 36 0]"
   ]
  },
  {
   "cell_type": "code",
   "execution_count": 8,
   "metadata": {},
   "outputs": [],
   "source": [
    "# came to my notice that you just need 1 thread per block\n",
    "@cuda.jit\n",
    "def upsweep_kernel(input:np.array ,two_d:int, n:int):\n",
    "    two_dplus1 = 2*two_d\n",
    "    #debug: need to do one operation in a stride of two_dplus1 and the data doesn't touch\n",
    "    #debug: have the last thread of the stride do the work\n",
    "\n",
    "    bx, tx = cuda.blockIdx.x, cuda.threadIdx.x\n",
    "    idx = (cuda.blockDim.x*bx + tx)*two_dplus1\n",
    "\n",
    "    if idx%two_dplus1==0 and idx+two_dplus1-1 < n:\n",
    "        input[idx+two_dplus1-1] += input[idx+two_d-1]\n",
    "\n",
    "@cuda.jit \n",
    "def downsweep_kernel(input:np.array ,two_d:int, n:int):\n",
    "    two_dplus1 = 2*two_d\n",
    "\n",
    "    bx, tx = cuda.blockIdx.x, cuda.threadIdx.x\n",
    "    idx = (cuda.blockDim.x*bx + tx)*two_dplus1\n",
    "\n",
    "    if idx%two_dplus1==0 and idx+two_dplus1-1 < n:\n",
    "        t = input[int(idx+two_d-1)]\n",
    "        input[int(idx+two_d-1)] = input[int(idx+two_dplus1-1)]\n",
    "        input[int(idx+two_dplus1-1)] += t"
   ]
  },
  {
   "cell_type": "code",
   "execution_count": 9,
   "metadata": {},
   "outputs": [],
   "source": [
    "def predix_sum(input:np.array):\n",
    "    x = input.copy()\n",
    "    n = input.shape[0]\n",
    "    two_d = 1\n",
    "    tpb = 512\n",
    "    \n",
    "    while two_d<=n//2:\n",
    "        nb = (n//(two_d*2) + tpb - 1)//tpb\n",
    "        upsweep_kernel[nb,tpb](x,two_d,n)\n",
    "        print(x)\n",
    "        two_d*=2\n",
    "    x[n-1]=0\n",
    "    print(x)\n",
    "    two_d=n/2\n",
    "    while two_d>=1:\n",
    "        nb = (n//(two_d*2) + tpb - 1)//tpb\n",
    "        print(n//(two_d*2))\n",
    "        downsweep_kernel[int(nb),tpb](x,two_d,n) \n",
    "        print(x)\n",
    "        two_d/=2\n",
    "    output = np.cumsum(input)-input\n",
    "\n",
    "    for i in range(n):\n",
    "        if x[i]!=output[i]:\n",
    "            print(\"error at index\",i)"
   ]
  },
  {
   "cell_type": "code",
   "execution_count": 13,
   "metadata": {},
   "outputs": [
    {
     "name": "stdout",
     "output_type": "stream",
     "text": [
      "[      0       1       2 ... 1048569  524286 1048573]\n",
      "[      0       1       2 ... 1048569  524286 2097142]\n",
      "[      0       1       2 ... 1048569  524286 4194268]\n",
      "[      0       1       2 ... 1048569  524286 8388472]\n",
      "[       0        1        2 ...  1048569   524286 16776688]\n",
      "[       0        1        2 ...  1048569   524286 33552352]\n",
      "[       0        1        2 ...  1048569   524286 67100608]\n",
      "[        0         1         2 ...   1048569    524286 134184832]\n",
      "[        0         1         2 ...   1048569    524286 268304128]\n",
      "[        0         1         2 ...   1048569    524286 536346112]\n",
      "[         0          1          2 ...    1048569     524286 1071643648]\n",
      "[         0          1          2 ...    1048569     524286 2139092992]\n",
      "[         0          1          2 ...    1048569     524286 4261408768]\n",
      "[         0          1          2 ...    1048569     524286 8455708672]\n",
      "[          0           1           2 ...     1048569      524286\n",
      " 16642981888]\n",
      "[          0           1           2 ...     1048569      524286\n",
      " 32212221952]\n",
      "[          0           1           2 ...     1048569      524286\n",
      " 60129476608]\n",
      "[           0            1            2 ...      1048569       524286\n",
      " 103079084032]\n",
      "[           0            1            2 ...      1048569       524286\n",
      " 137438691328]\n",
      "[      0       1       2 ... 1048569  524286       0]\n",
      "1.0\n",
      "[          0           1           2 ...     1048569      524286\n",
      " 34359607296]\n",
      "2.0\n",
      "[          0           1           2 ...     1048569      524286\n",
      " 77309214720]\n",
      "4.0\n",
      "[           0            1            2 ...      1048569       524286\n",
      " 105226469376]\n",
      "8.0\n",
      "[           0            1            2 ...      1048569       524286\n",
      " 120795709440]\n",
      "16.0\n",
      "[           0            1            2 ...      1048569       524286\n",
      " 128982982656]\n",
      "32.0\n",
      "[           0            1            2 ...      1048569       524286\n",
      " 133177282560]\n",
      "64.0\n",
      "[           0            1            2 ...      1048569       524286\n",
      " 135299598336]\n",
      "128.0\n",
      "[           0            1            2 ...      1048569       524286\n",
      " 136367047680]\n",
      "256.0\n",
      "[           0            1            2 ...      1048569       524286\n",
      " 136902345216]\n",
      "512.0\n",
      "[           0            1            2 ...      1048569       524286\n",
      " 137170387200]\n",
      "1024.0\n",
      "[           0            1            2 ...      1048569       524286\n",
      " 137304506496]\n",
      "2048.0\n",
      "[           0            1            2 ...      1048569       524286\n",
      " 137371590720]\n",
      "4096.0\n",
      "[           0            1            2 ...      1048569       524286\n",
      " 137405138976]\n",
      "8192.0\n",
      "[           0            1            2 ...      1048569       524286\n",
      " 137421914640]\n",
      "16384.0\n",
      "[           0            1            2 ...      1048569       524286\n",
      " 137430302856]\n",
      "32768.0\n",
      "[           0            1            2 ...      1048569       524286\n",
      " 137434497060]\n",
      "65536.0\n",
      "[           0            1            2 ...      1048569       524286\n",
      " 137436594186]\n",
      "131072.0\n",
      "[           0            0            2 ... 137436594186       524286\n",
      " 137437642755]\n",
      "262144.0\n",
      "[           0            0            1 ... 137437118470 137437642755\n",
      " 137438167041]\n"
     ]
    }
   ],
   "source": [
    "# np.set_printoptions(threshold=32)\n",
    "\n",
    "#make test for 4096 elements\n",
    "input  = [i for i in range(int(8388608/16))]\n",
    "output = [0]*16777216\n",
    "input = np.array(input)\n",
    "output = np.array(output)\n",
    "\n",
    "predix_sum(input)\n"
   ]
  },
  {
   "cell_type": "code",
   "execution_count": null,
   "metadata": {},
   "outputs": [],
   "source": []
  }
 ],
 "metadata": {
  "kernelspec": {
   "display_name": "base",
   "language": "python",
   "name": "python3"
  },
  "language_info": {
   "codemirror_mode": {
    "name": "ipython",
    "version": 3
   },
   "file_extension": ".py",
   "mimetype": "text/x-python",
   "name": "python",
   "nbconvert_exporter": "python",
   "pygments_lexer": "ipython3",
   "version": "3.12.2"
  }
 },
 "nbformat": 4,
 "nbformat_minor": 2
}
